{
  "nbformat": 4,
  "nbformat_minor": 0,
  "metadata": {
    "colab": {
      "provenance": []
    },
    "kernelspec": {
      "name": "python3",
      "display_name": "Python 3"
    },
    "language_info": {
      "name": "python"
    }
  },
  "cells": [
    {
      "cell_type": "markdown",
      "source": [
        "#DATA STRUCTURE"
      ],
      "metadata": {
        "id": "hbmBXVzYdZIQ"
      }
    },
    {
      "cell_type": "markdown",
      "source": [
        "#THEORY QUESTIONS"
      ],
      "metadata": {
        "id": "YmV-RbsqdoR-"
      }
    },
    {
      "cell_type": "markdown",
      "source": [
        "Q1- What are data structures, and why are they important?\n",
        "\n",
        "Data structures are the way of organizing and storing the data so that it can be accessed and modified efficiently. eg, Tuple, String, List, Dictionary, array etc.\n",
        "They are important because they are crucial for efficient data management and algorithm implementation, impacting the performance and scalability of software applications."
      ],
      "metadata": {
        "id": "ek2FEuDCdxop"
      }
    },
    {
      "cell_type": "markdown",
      "source": [
        "Q2- Explain the difference between mutable and immutable data types with examples?\n",
        "\n",
        "Mutable data types are the type of data type which can be changed after its creation. eg, lists, dictionary, etc.\n",
        "eg: list=[1,2,3] list[0]=4 #here now the original list[1,2,3] after list[0]=4 has become list[4,2,3]\n",
        "Immutable data types are the type of data type which cannot be changed after its creation. eg, Tuple, String\n",
        "eg, my_tuple = (1, 2, 3)\n",
        "my_tuple[0] = 4 # This will raise a TypeError"
      ],
      "metadata": {
        "id": "mR8SYLfId2uX"
      }
    },
    {
      "cell_type": "markdown",
      "source": [
        "Q3- What are the main differences between lists and tuples in Python?\n",
        "\n",
        "Main Differences Between Lists and Tuples in Python:\n",
        "Lists are mutable, tuples are immutable.\n",
        "Tuples are generally faster than lists due to their immutability.\n",
        "Tuples use less memory compared to lists"
      ],
      "metadata": {
        "id": "g1MvF5Nnd29D"
      }
    },
    {
      "cell_type": "markdown",
      "source": [
        "Q4- Describe how dictionaries store data?\n",
        "\n",
        "Dictionaries store data in key-value pairs. Each key is hashed to a unique index in an array where the corresponding value is stored.\n"
      ],
      "metadata": {
        "id": "brBZb1Wcd3X5"
      }
    },
    {
      "cell_type": "markdown",
      "source": [
        "Q5-Why might you use a set instead of a list in Python?\n",
        "\n",
        "Sets autimatically removes duplicate values while List don't do that.\n",
        "Also sets provides faster membership tests compared to lists."
      ],
      "metadata": {
        "id": "gcSPBmLHd3oo"
      }
    },
    {
      "cell_type": "markdown",
      "source": [
        "Q6-What is a string in Python, and how is it different from a list?\n",
        "\n",
        "String is the sequence of characters which is immutable in nature and it contains only string data types and no other data types.\n",
        "While in other hand Lists are collection of items and is mutable data structure which can contains multiple data types."
      ],
      "metadata": {
        "id": "HvTZIVxed32-"
      }
    },
    {
      "cell_type": "markdown",
      "source": [
        "Q7-How do tuples ensure data integrity in Python?\n",
        "\n",
        "Since tuples are immutable in nature thats why, Once created, the elements of a tuple cannot be changed, ensuring that the data remains constant."
      ],
      "metadata": {
        "id": "DEjOiOd8evg-"
      }
    },
    {
      "cell_type": "markdown",
      "source": [
        "Q8-What is a hash table, and how does it relate to dictionaries in Python?\n",
        "\n",
        "Hash Table: A data structure that maps keys to values using a hash function to compute an index into an array of buckets or slots.\n",
        "Relation to Dictionaries: Python dictionaries are implemented using hash tables."
      ],
      "metadata": {
        "id": "w3Uj2i8Bevtu"
      }
    },
    {
      "cell_type": "markdown",
      "source": [
        "Q9-Can lists contain different data types in Python?\n",
        "\n",
        "Yes: Lists can contain elements of different data types, such as integers, strings, and even other lists.\n"
      ],
      "metadata": {
        "id": "jRaNngU1ev6E"
      }
    },
    {
      "cell_type": "markdown",
      "source": [
        "Q10-Explain why strings are immutable in Python?\n",
        "\n",
        "Immutability helps with performance optimization, memory efficiency, and thread safety. It also allows strings to be used as keys in dictionaries."
      ],
      "metadata": {
        "id": "fky8QT86ewAG"
      }
    },
    {
      "cell_type": "markdown",
      "source": [
        "Q11-What advantages do dictionaries offer over lists for certain tasks?\n",
        "\n",
        "Key-Value Mapping: Efficient for lookups, insertions, and deletions based on keys.\n",
        "Example: Storing user information where quick access to user details by username is needed."
      ],
      "metadata": {
        "id": "Np8d7-EkewCb"
      }
    },
    {
      "cell_type": "markdown",
      "source": [
        "Q12-Describe a scenario where using a tuple would be preferable over a list.\n",
        "\n",
        "Storing coordinates of a point (x, y) where the values should not change."
      ],
      "metadata": {
        "id": "xcttE3bEewEz"
      }
    },
    {
      "cell_type": "markdown",
      "source": [
        "Q13-How do sets handle duplicate values in Python?\n",
        "\n",
        "Python set data structures inherently do not allow duplicate values. When we attempt to add duplicate values to a set, or when we create a set from an iterable that contains duplicates, the set will automatically discard the duplicates, storing only one instance of each unique element."
      ],
      "metadata": {
        "id": "UhZyrWhoewG5"
      }
    },
    {
      "cell_type": "markdown",
      "source": [
        "Q14-How does the “in” keyword work differently for lists and dictionaries?\n",
        "\n",
        "In List \"in\" Checks for the presence of a value as an element.\n",
        "In Dictionary \"in\" checks for the presence of a key."
      ],
      "metadata": {
        "id": "SyhIA6C7ewJb"
      }
    },
    {
      "cell_type": "markdown",
      "source": [
        "Q15-Can you modify the elements of a tuple? Explain why or why not?\n",
        "\n",
        "Since Tuples data structure is immutable, meaning we cannot modify the elements of tuples once its created."
      ],
      "metadata": {
        "id": "M-bRZgj2ewND"
      }
    },
    {
      "cell_type": "markdown",
      "source": [
        "Q16-What is a nested dictionary, and give an example of its use case?\n",
        "\n",
        "A nested dictionary is the dictionary within another dictionary."
      ],
      "metadata": {
        "id": "_fVxPwungLGh"
      }
    },
    {
      "cell_type": "markdown",
      "source": [
        "Q17-Describe the time complexity of accessing elements in a dictionary.\n",
        " The time complexity of accessing elements in a Python dictionary (ie., looking up a value using its key) is, on average, O(1) (constant time)."
      ],
      "metadata": {
        "id": "zK8rELBEgLTM"
      }
    },
    {
      "cell_type": "markdown",
      "source": [
        "Q18-In what situations are lists preferred over dictionaries?\n",
        "\n",
        "When data naturally fits a sequence, where order and positional access are important, and duplicates are acceptable, a list is the preffered choice."
      ],
      "metadata": {
        "id": "rwsnHs58gLgA"
      }
    },
    {
      "cell_type": "markdown",
      "source": [
        "Q19-Why are dictionaries considered unordered, and how does that affect data retrieval?\n",
        "\n",
        "Dictionaries are designed for fast, direct access to values when we have the unique key. Their \"unordered\" nature means we trade index-based access for extremely efficient key-based retrieval, making them ideal for mapping and lookup tasks.\n",
        "We cannot retrieve items using integer indices like my_dict[0]. We must know the exact key to retrieve its associated value.\n",
        "Data retrieval is inherently driven by the key. If we don't know the key, we have to iterate through the dictionary's keys or values to find what we're looking for, which is less efficient than a direct key lookup"
      ],
      "metadata": {
        "id": "8rtiglGdgLrD"
      }
    },
    {
      "cell_type": "markdown",
      "source": [
        "Q20-Explain the difference between a list and a dictionary in terms of data retrieval. - Lists are for ordered collections where you want to retrieve \"the Nth item,\" like List[1]. - while dictionaries are for unordered collections where you want to retrieve \"the item named X."
      ],
      "metadata": {
        "id": "CertUq-8gL7x"
      }
    },
    {
      "cell_type": "markdown",
      "source": [
        "#PRACTICAL QUESTIONS"
      ],
      "metadata": {
        "id": "TtnMYTdcgMLn"
      }
    },
    {
      "cell_type": "markdown",
      "source": [],
      "metadata": {
        "id": "1B_ahenRi0xY"
      }
    },
    {
      "cell_type": "code",
      "source": [
        "#1.Write a code to create a string with your name and print it.\n",
        "name = \"Dev Arora\"\n",
        "print(name)\n",
        ""
      ],
      "metadata": {
        "colab": {
          "base_uri": "https://localhost:8080/"
        },
        "id": "s_VD4dX0izOA",
        "outputId": "01af2b6f-d7ea-4b1f-f5e1-4e5027313c0c"
      },
      "execution_count": 4,
      "outputs": [
        {
          "output_type": "stream",
          "name": "stdout",
          "text": [
            "Dev Arora\n"
          ]
        }
      ]
    },
    {
      "cell_type": "code",
      "source": [
        "#2.Write a code to find the length of the string \"Hello World\".\n",
        "print(len(\"Hello World\"))"
      ],
      "metadata": {
        "colab": {
          "base_uri": "https://localhost:8080/"
        },
        "id": "bwyMZwvGjDd5",
        "outputId": "b5e14918-656e-4363-9b20-4c87d9f784a7"
      },
      "execution_count": 3,
      "outputs": [
        {
          "output_type": "stream",
          "name": "stdout",
          "text": [
            "11\n"
          ]
        }
      ]
    },
    {
      "cell_type": "code",
      "source": [
        "#3.Write a code to slice the first 3 characters from the string \"Python Programming\".\n",
        "string = \"Python Programming\"\n",
        "sliced_string = string[:3]\n",
        "print(sliced_string)"
      ],
      "metadata": {
        "colab": {
          "base_uri": "https://localhost:8080/"
        },
        "id": "B-Ds5qbdjSsf",
        "outputId": "0fcb80a3-4161-46c1-daf4-ee2a1f7e1b1b"
      },
      "execution_count": 5,
      "outputs": [
        {
          "output_type": "stream",
          "name": "stdout",
          "text": [
            "Pyt\n"
          ]
        }
      ]
    },
    {
      "cell_type": "code",
      "source": [
        "#4.Write a code to convert the string \"hello\" to uppercase.\n",
        "string=\"hello\"\n",
        "uprString = string.upper()\n",
        "print(uprString)"
      ],
      "metadata": {
        "colab": {
          "base_uri": "https://localhost:8080/"
        },
        "id": "P4OuX4MMjump",
        "outputId": "50dfe110-b213-4de5-dbb4-e026d0d1b8c9"
      },
      "execution_count": 6,
      "outputs": [
        {
          "output_type": "stream",
          "name": "stdout",
          "text": [
            "HELLO\n"
          ]
        }
      ]
    },
    {
      "cell_type": "code",
      "source": [
        "#5.Write a code to replace the word \"apple\" with \"orange\" in the string \"I like apple\".\n",
        "String = \"I like apple\"\n",
        "repString = String.replace('apple', 'orange')\n",
        "print(repString)"
      ],
      "metadata": {
        "colab": {
          "base_uri": "https://localhost:8080/"
        },
        "id": "MsEuX0e9jxZa",
        "outputId": "e1261389-418e-454a-d094-b2735ef151d4"
      },
      "execution_count": 7,
      "outputs": [
        {
          "output_type": "stream",
          "name": "stdout",
          "text": [
            "I like orange\n"
          ]
        }
      ]
    },
    {
      "cell_type": "code",
      "source": [
        "#6.Write a code to create a list with numbers 1 to 5 and print it.\n",
        "numList= [1,2,3,4,5]\n",
        "print(numList)"
      ],
      "metadata": {
        "colab": {
          "base_uri": "https://localhost:8080/"
        },
        "id": "yUzxPOQxj1gA",
        "outputId": "ee11ce61-de7f-4511-b943-38c542b63ea5"
      },
      "execution_count": 8,
      "outputs": [
        {
          "output_type": "stream",
          "name": "stdout",
          "text": [
            "[1, 2, 3, 4, 5]\n"
          ]
        }
      ]
    },
    {
      "cell_type": "code",
      "source": [
        "#7.Write a code to append the number 10 to the list [1, 2, 3, 4].\n",
        "numList=[1, 2, 3, 4]\n",
        "numList.append(10)\n",
        "print(numList)"
      ],
      "metadata": {
        "colab": {
          "base_uri": "https://localhost:8080/"
        },
        "id": "IQXQY5ADj43S",
        "outputId": "07f6e1e6-7330-4122-a810-b71fc01eef6e"
      },
      "execution_count": 9,
      "outputs": [
        {
          "output_type": "stream",
          "name": "stdout",
          "text": [
            "[1, 2, 3, 4, 10]\n"
          ]
        }
      ]
    },
    {
      "cell_type": "code",
      "source": [
        "#8.Write a code to remove the number 3 from the list [1, 2, 3, 4, 5].\n",
        "nulList= [1, 2, 3, 4, 5]\n",
        "nulList.remove(3)\n",
        "print(nulList)"
      ],
      "metadata": {
        "colab": {
          "base_uri": "https://localhost:8080/"
        },
        "id": "9Ba38jbpj7O7",
        "outputId": "c4457464-ffa0-4f76-ef34-47e601a1d4aa"
      },
      "execution_count": 10,
      "outputs": [
        {
          "output_type": "stream",
          "name": "stdout",
          "text": [
            "[1, 2, 4, 5]\n"
          ]
        }
      ]
    },
    {
      "cell_type": "code",
      "source": [
        "#9.Write a code to access the second element in the list ['a', 'b', 'c', 'd'].\n",
        "alphList=['a', 'b', 'c', 'd']\n",
        "print(alphList[1])"
      ],
      "metadata": {
        "colab": {
          "base_uri": "https://localhost:8080/"
        },
        "id": "nHM6b6Nvj_zR",
        "outputId": "582c839e-a219-4ccb-9eab-faa568262a7f"
      },
      "execution_count": 11,
      "outputs": [
        {
          "output_type": "stream",
          "name": "stdout",
          "text": [
            "b\n"
          ]
        }
      ]
    },
    {
      "cell_type": "code",
      "source": [
        "#10.Write a code to reverse the list [10, 20, 30, 40, 50].\n",
        "numList=[10, 20, 30, 40, 50]\n",
        "print(numList[::-1])\n",
        ""
      ],
      "metadata": {
        "colab": {
          "base_uri": "https://localhost:8080/"
        },
        "id": "wt01EDtkkCgo",
        "outputId": "27c09dfe-5d67-45fb-f74c-8ab03ed6ae99"
      },
      "execution_count": 13,
      "outputs": [
        {
          "output_type": "stream",
          "name": "stdout",
          "text": [
            "[50, 40, 30, 20, 10]\n"
          ]
        }
      ]
    },
    {
      "cell_type": "code",
      "source": [
        "#11. Write a code to create a tuple with the elements 100, 200, 300 and print it.\n",
        "fisrtTuple = (100,200,300)\n",
        "print(fisrtTuple)"
      ],
      "metadata": {
        "colab": {
          "base_uri": "https://localhost:8080/"
        },
        "id": "8C29_61kkFKG",
        "outputId": "9cb8b49c-cee6-4a75-8fb0-7ca83b7275a7"
      },
      "execution_count": 14,
      "outputs": [
        {
          "output_type": "stream",
          "name": "stdout",
          "text": [
            "(100, 200, 300)\n"
          ]
        }
      ]
    },
    {
      "cell_type": "code",
      "source": [
        "#12.Write a code to access the second-to-last element of the tuple ('red', 'green', 'blue', 'yellow').\n",
        "colTuple = ('red', 'green', 'blue', 'yellow')\n",
        "print(colTuple[-2])\n",
        ""
      ],
      "metadata": {
        "colab": {
          "base_uri": "https://localhost:8080/"
        },
        "id": "5yrvbHqrkPVL",
        "outputId": "1d4c7a69-0213-49e7-d0ad-d8a91ddfdcfe"
      },
      "execution_count": 15,
      "outputs": [
        {
          "output_type": "stream",
          "name": "stdout",
          "text": [
            "blue\n"
          ]
        }
      ]
    },
    {
      "cell_type": "code",
      "source": [
        "\n",
        "#13. Write a code to find the minimum number in the tuple (10, 20, 5, 15).\n",
        "numTuple = (10, 20, 5, 15)\n",
        "print(min(numTuple))"
      ],
      "metadata": {
        "colab": {
          "base_uri": "https://localhost:8080/"
        },
        "id": "HjbTtE_zkSyp",
        "outputId": "9149b39b-297d-4b18-8f1b-f2fb2ef46417"
      },
      "execution_count": 16,
      "outputs": [
        {
          "output_type": "stream",
          "name": "stdout",
          "text": [
            "5\n"
          ]
        }
      ]
    },
    {
      "cell_type": "code",
      "source": [
        "#14.Write a code to find the index of the element \"cat\" in the tuple ('dog', 'cat', 'rabbit').\n",
        "aniTuple = ('dog', 'cat', 'rabbit')\n",
        "print(aniTuple.index('cat'))"
      ],
      "metadata": {
        "colab": {
          "base_uri": "https://localhost:8080/"
        },
        "id": "4THbTAs6kWFL",
        "outputId": "67834c63-b923-48e8-9b7d-123bc32818c4"
      },
      "execution_count": 17,
      "outputs": [
        {
          "output_type": "stream",
          "name": "stdout",
          "text": [
            "1\n"
          ]
        }
      ]
    },
    {
      "cell_type": "code",
      "source": [
        "#15. Write a code to create a tuple containing three different fruits and check if \"kiwi\" is in it.\n",
        "fruTuple = ('Apple','mango','kiwi')\n",
        "ifKiwi= 'kiwi' in fruTuple\n",
        "print(ifKiwi)"
      ],
      "metadata": {
        "colab": {
          "base_uri": "https://localhost:8080/"
        },
        "id": "pHn0uYN1kZIz",
        "outputId": "897f3063-6fec-4128-a687-7c5d00706aa7"
      },
      "execution_count": 18,
      "outputs": [
        {
          "output_type": "stream",
          "name": "stdout",
          "text": [
            "True\n"
          ]
        }
      ]
    },
    {
      "cell_type": "code",
      "source": [
        "#16.Write a code to create a set with the elements 'a', 'b', 'c' and print it.\n",
        "alphSet = {'a','b','c'}\n",
        "print(alphSet)"
      ],
      "metadata": {
        "colab": {
          "base_uri": "https://localhost:8080/"
        },
        "id": "--jRsStJkdIj",
        "outputId": "39472c48-7296-480d-ab9f-37a3a6430bf1"
      },
      "execution_count": 19,
      "outputs": [
        {
          "output_type": "stream",
          "name": "stdout",
          "text": [
            "{'c', 'a', 'b'}\n"
          ]
        }
      ]
    },
    {
      "cell_type": "code",
      "source": [
        "#17.Write a code to clear all elements from the set {1, 2, 3, 4, 5}.\n",
        "alphSet =  {1, 2, 3, 4, 5}\n",
        "clearSet = alphSet.clear()\n",
        "print(clearSet)"
      ],
      "metadata": {
        "colab": {
          "base_uri": "https://localhost:8080/"
        },
        "id": "R_uoOsFXkhRJ",
        "outputId": "a0ac698d-2ec0-442b-c72b-dea75b8839de"
      },
      "execution_count": 20,
      "outputs": [
        {
          "output_type": "stream",
          "name": "stdout",
          "text": [
            "None\n"
          ]
        }
      ]
    },
    {
      "cell_type": "code",
      "source": [
        "#18.Write a code to remove the element 4 from the set {1, 2, 3, 4}\n",
        "alphaSet = {1, 2, 3, 4}\n",
        "remSet= alphaSet.remove(4)\n",
        "print(alphaSet)\n"
      ],
      "metadata": {
        "colab": {
          "base_uri": "https://localhost:8080/"
        },
        "id": "hcUyqNJjkj2N",
        "outputId": "a4d578bb-edd7-450a-bb71-0db880256627"
      },
      "execution_count": 21,
      "outputs": [
        {
          "output_type": "stream",
          "name": "stdout",
          "text": [
            "{1, 2, 3}\n"
          ]
        }
      ]
    },
    {
      "cell_type": "code",
      "source": [
        "#19.Write a code to find the union of two sets {1, 2, 3} and {3, 4, 5}.\n",
        "set1 = {1, 2, 3}\n",
        "set2 = {3, 4, 5}\n",
        "setUnion = set1.union(set2)\n",
        "print(setUnion)"
      ],
      "metadata": {
        "colab": {
          "base_uri": "https://localhost:8080/"
        },
        "id": "Llx7qTlQkmlY",
        "outputId": "4db31d7a-fb99-45ae-f474-1fe79208a271"
      },
      "execution_count": 22,
      "outputs": [
        {
          "output_type": "stream",
          "name": "stdout",
          "text": [
            "{1, 2, 3, 4, 5}\n"
          ]
        }
      ]
    },
    {
      "cell_type": "code",
      "source": [
        "#20.Write a code to find the intersection of two sets {1, 2, 3} and {2, 3, 4}.\n",
        "set1 = {1, 2, 3}\n",
        "set2 = {3, 4, 5}\n",
        "setIntersect= set1.intersection(set2)\n",
        "print(setIntersect)\n",
        ""
      ],
      "metadata": {
        "colab": {
          "base_uri": "https://localhost:8080/"
        },
        "id": "VU9Cx-9wko_K",
        "outputId": "80d7eb52-db69-461c-9805-937787fc9e1f"
      },
      "execution_count": 23,
      "outputs": [
        {
          "output_type": "stream",
          "name": "stdout",
          "text": [
            "{3}\n"
          ]
        }
      ]
    },
    {
      "cell_type": "code",
      "source": [
        "#21.Write a code to create a dictionary with the keys \"name\", \"age\", and \"city\", and print it.\n",
        "perDict = {'name':'Dev', 'age':'20', 'city':'Indore'}\n",
        "print(perDict)"
      ],
      "metadata": {
        "colab": {
          "base_uri": "https://localhost:8080/"
        },
        "id": "gdWH9nZckrgF",
        "outputId": "39764a1a-81f0-4c44-bd3d-8eb8058512e7"
      },
      "execution_count": 26,
      "outputs": [
        {
          "output_type": "stream",
          "name": "stdout",
          "text": [
            "{'name': 'Dev', 'age': '20', 'city': 'Indore'}\n"
          ]
        }
      ]
    },
    {
      "cell_type": "code",
      "source": [
        "#22.Write a code to add a new key-value pair \"country\": \"USA\" to the dictionary {'name': 'John', 'age': 25}\n",
        "perDict = {'name':'Dev', 'age':'20', 'city':'Indore'}\n",
        "perDict['Country']='USA'\n",
        "print(perDict)"
      ],
      "metadata": {
        "colab": {
          "base_uri": "https://localhost:8080/"
        },
        "id": "XE6o5kb7kt8c",
        "outputId": "e27b5273-f652-40e2-a28c-e0e279397fe4"
      },
      "execution_count": 27,
      "outputs": [
        {
          "output_type": "stream",
          "name": "stdout",
          "text": [
            "{'name': 'Dev', 'age': '20', 'city': 'Indore', 'Country': 'USA'}\n"
          ]
        }
      ]
    },
    {
      "cell_type": "code",
      "source": [
        "#23.Write a code to access the value associated with the key \"name\" in the dictionary {'name': 'Alice', 'age': 30}\n",
        "persDict = {'name': 'Alice', 'age': 30}\n",
        "val = persDict['name']\n",
        "print(val)"
      ],
      "metadata": {
        "colab": {
          "base_uri": "https://localhost:8080/"
        },
        "id": "k2M_FKT9kxMc",
        "outputId": "fdf175f2-404a-47ba-e977-ef3f1b38d301"
      },
      "execution_count": 28,
      "outputs": [
        {
          "output_type": "stream",
          "name": "stdout",
          "text": [
            "Alice\n"
          ]
        }
      ]
    },
    {
      "cell_type": "code",
      "source": [
        "#24.Write a code to remove the key \"age\" from the dictionary {'name': 'Bob', 'age': 22, 'city': 'New York'}.\n",
        "bobdict = {'name': 'Bob', 'age': 22, 'city': 'New York'}\n",
        "remDic = bobdict.pop('age')\n",
        "print(remDic)\n",
        "print(bobdict)\n",
        ""
      ],
      "metadata": {
        "colab": {
          "base_uri": "https://localhost:8080/"
        },
        "id": "QXDqKK2flSTV",
        "outputId": "355afc9b-5352-4a46-c41d-acb59440be22"
      },
      "execution_count": 29,
      "outputs": [
        {
          "output_type": "stream",
          "name": "stdout",
          "text": [
            "22\n",
            "{'name': 'Bob', 'city': 'New York'}\n"
          ]
        }
      ]
    },
    {
      "cell_type": "code",
      "source": [
        "#25. Write a code to check if the key \"city\" exists in the dictionary {'name': 'Alice', 'city': 'Paris'}\n",
        "nameDict = {'name': 'Alice', 'city': 'Paris'}\n",
        "doExist = 'city' in nameDict\n",
        "print(doExist)"
      ],
      "metadata": {
        "colab": {
          "base_uri": "https://localhost:8080/"
        },
        "id": "sbTSgdw-lbDP",
        "outputId": "158c9039-f057-4e0c-d98a-7c06a0b0df65"
      },
      "execution_count": 30,
      "outputs": [
        {
          "output_type": "stream",
          "name": "stdout",
          "text": [
            "True\n"
          ]
        }
      ]
    },
    {
      "cell_type": "code",
      "source": [
        "#26.Write a code to create a list, a tuple, and a dictionary, and print them all.\n",
        "exList=['Jyoti','Anjali','Ruchi']\n",
        "exTuple=('Komal','Priti','Priyanka')\n",
        "exDict={'Name':'Komal','Age':'24','Relation':'wife'}\n",
        "print(exList)\n",
        "print(exTuple)\n",
        "print(exDict)"
      ],
      "metadata": {
        "colab": {
          "base_uri": "https://localhost:8080/"
        },
        "id": "mmR80LU5le0h",
        "outputId": "b817af6a-967d-42ef-daf0-d187ded153c4"
      },
      "execution_count": 31,
      "outputs": [
        {
          "output_type": "stream",
          "name": "stdout",
          "text": [
            "['Jyoti', 'Anjali', 'Ruchi']\n",
            "('Komal', 'Priti', 'Priyanka')\n",
            "{'Name': 'Komal', 'Age': '24', 'Relation': 'wife'}\n"
          ]
        }
      ]
    },
    {
      "cell_type": "code",
      "source": [
        "#27.Write a code to create a list of 5 random numbers between 1 and 100, sort it in ascending order, and print the result.(replaced)\n",
        "import random\n",
        "\n",
        "# Create a list of 5 random numbers between 1 and 100\n",
        "random_numbers = random.sample(range(1, 101), 5)\n",
        "\n",
        "# Sort the list in ascending order\n",
        "random_numbers.sort()\n",
        "\n",
        "# Print the result\n",
        "print(random_numbers)"
      ],
      "metadata": {
        "colab": {
          "base_uri": "https://localhost:8080/"
        },
        "id": "em9bbEyUliYq",
        "outputId": "0dc62c9f-632c-49fb-bc39-e6cab7db5a22"
      },
      "execution_count": 32,
      "outputs": [
        {
          "output_type": "stream",
          "name": "stdout",
          "text": [
            "[35, 55, 61, 84, 97]\n"
          ]
        }
      ]
    },
    {
      "cell_type": "code",
      "source": [
        "#28.Write a code to create a list with strings and print the element at the third index.\n",
        "strList=['Hema','Rekha','Sushma','jaya','Nirma']\n",
        "thirdIndex=strList[4]\n",
        "print(thirdIndex)"
      ],
      "metadata": {
        "colab": {
          "base_uri": "https://localhost:8080/"
        },
        "id": "yPfUKQ26lmgT",
        "outputId": "62f7831a-aae2-4e3d-84cc-9d0434e515c6"
      },
      "execution_count": 33,
      "outputs": [
        {
          "output_type": "stream",
          "name": "stdout",
          "text": [
            "Nirma\n"
          ]
        }
      ]
    },
    {
      "cell_type": "code",
      "source": [
        "#29. Write a code to combine two dictionaries into one and print the result.\n",
        "Dict1={'Name':'Komal','Age':'24','Relation':'wife'}\n",
        "Dict2={'MarriageDate':'10/03/2023'}\n",
        "combDict={**Dict1,**Dict2}\n",
        "print(combDict)"
      ],
      "metadata": {
        "colab": {
          "base_uri": "https://localhost:8080/"
        },
        "id": "YxAhFaN8lpR7",
        "outputId": "418751f2-b715-4da8-e160-30a0acb0d744"
      },
      "execution_count": 34,
      "outputs": [
        {
          "output_type": "stream",
          "name": "stdout",
          "text": [
            "{'Name': 'Komal', 'Age': '24', 'Relation': 'wife', 'MarriageDate': '10/03/2023'}\n"
          ]
        }
      ]
    },
    {
      "cell_type": "code",
      "source": [
        "#30.Write a code to convert a list of strings into a set.\n",
        "string_list = [\"apple\", \"banana\", \"cherry\", \"apple\", \"banana\"]\n",
        "string_set = set(string_list)\n",
        "print(string_set)\n"
      ],
      "metadata": {
        "colab": {
          "base_uri": "https://localhost:8080/"
        },
        "id": "V8alw-OHluB1",
        "outputId": "a5ec1517-1d67-4933-d202-c5ba7ab01769"
      },
      "execution_count": 35,
      "outputs": [
        {
          "output_type": "stream",
          "name": "stdout",
          "text": [
            "{'banana', 'cherry', 'apple'}\n"
          ]
        }
      ]
    },
    {
      "cell_type": "code",
      "source": [],
      "metadata": {
        "id": "Fw6j9_nylxGm"
      },
      "execution_count": null,
      "outputs": []
    }
  ]
}